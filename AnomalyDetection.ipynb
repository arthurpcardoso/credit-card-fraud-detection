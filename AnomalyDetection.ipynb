{
 "cells": [
  {
   "cell_type": "markdown",
   "id": "92f24b20-8503-4cb0-9d2c-bc97be6291e4",
   "metadata": {},
   "source": [
    "# Unsupervised Learning - $\\textit{Anomaly Detection}$"
   ]
  },
  {
   "cell_type": "markdown",
   "id": "a3707fbb-caa7-4a98-8e41-184a71ddc381",
   "metadata": {},
   "source": [
    "## 1. Importações"
   ]
  },
  {
   "cell_type": "code",
   "execution_count": 306,
   "id": "4aa07b0f-8ed1-491d-8eaf-c4af2312622d",
   "metadata": {},
   "outputs": [
    {
     "name": "stdout",
     "output_type": "stream",
     "text": [
      "Requirement already satisfied: graphviz in c:\\users\\predator\\miniconda3\\envs\\d2l\\lib\\site-packages (0.21)\n",
      "Requirement already satisfied: xgboost in c:\\users\\predator\\miniconda3\\envs\\d2l\\lib\\site-packages (2.1.4)\n",
      "Requirement already satisfied: numpy in c:\\users\\predator\\miniconda3\\envs\\d2l\\lib\\site-packages (from xgboost) (1.23.5)\n",
      "Requirement already satisfied: scipy in c:\\users\\predator\\miniconda3\\envs\\d2l\\lib\\site-packages (from xgboost) (1.10.1)\n",
      "Requirement already satisfied: imblearn in c:\\users\\predator\\miniconda3\\envs\\d2l\\lib\\site-packages (0.0)\n",
      "Requirement already satisfied: imbalanced-learn in c:\\users\\predator\\miniconda3\\envs\\d2l\\lib\\site-packages (from imblearn) (0.12.4)\n",
      "Requirement already satisfied: numpy>=1.17.3 in c:\\users\\predator\\miniconda3\\envs\\d2l\\lib\\site-packages (from imbalanced-learn->imblearn) (1.23.5)\n",
      "Requirement already satisfied: scipy>=1.5.0 in c:\\users\\predator\\miniconda3\\envs\\d2l\\lib\\site-packages (from imbalanced-learn->imblearn) (1.10.1)\n",
      "Requirement already satisfied: scikit-learn>=1.0.2 in c:\\users\\predator\\miniconda3\\envs\\d2l\\lib\\site-packages (from imbalanced-learn->imblearn) (1.6.1)\n",
      "Requirement already satisfied: joblib>=1.1.1 in c:\\users\\predator\\miniconda3\\envs\\d2l\\lib\\site-packages (from imbalanced-learn->imblearn) (1.4.2)\n",
      "Requirement already satisfied: threadpoolctl>=2.0.0 in c:\\users\\predator\\miniconda3\\envs\\d2l\\lib\\site-packages (from imbalanced-learn->imblearn) (3.5.0)\n"
     ]
    }
   ],
   "source": [
    "!pip install graphviz\n",
    "!pip install xgboost\n",
    "!pip install imblearn"
   ]
  },
  {
   "cell_type": "code",
   "execution_count": 307,
   "id": "757b6e63-e7ce-40d9-9560-39b410b7f2b6",
   "metadata": {},
   "outputs": [
    {
     "name": "stderr",
     "output_type": "stream",
     "text": [
      "  % Total    % Received % Xferd  Average Speed   Time    Time     Time  Current\n",
      "                                 Dload  Upload   Total   Spent    Left  Speed\n",
      "\n",
      "  0     0    0     0    0     0      0      0 --:--:-- --:--:-- --:--:--     0\n",
      "100 63257  100 63257    0     0   243k      0 --:--:-- --:--:-- --:--:--  245k\n"
     ]
    },
    {
     "data": {
      "text/plain": [
       "<Figure size 640x480 with 0 Axes>"
      ]
     },
     "metadata": {},
     "output_type": "display_data"
    }
   ],
   "source": [
    "# Carregar as funções compartilhadas do shared_functions.py\n",
    "!curl -O https://raw.githubusercontent.com/Fraud-Detection-Handbook/fraud-detection-handbook/main/Chapter_References/shared_functions.py\n",
    "%run shared_functions.py\n",
    "\n",
    "# Pegar dados simulaos do repositório Github\n",
    "if not os.path.exists(\"simulated-data-transformed\"):\n",
    "    !git clone https://github.com/Fraud-Detection-Handbook/simulated-data-transformed"
   ]
  },
  {
   "cell_type": "markdown",
   "id": "654410c4-59ed-4cf9-8c2a-98e3915f01b3",
   "metadata": {},
   "source": [
    "$\\textit{Obs.: A saída está em vermelho, mas não indica erro.}$"
   ]
  },
  {
   "cell_type": "code",
   "execution_count": 308,
   "id": "841536bb-8a23-4cd4-824c-c3f22dadd939",
   "metadata": {},
   "outputs": [],
   "source": [
    "from sklearn import metrics\n",
    "\n",
    "# Sobrescrevendo a função do shared_functions.py para incluir o f1 score\n",
    "def performance_assessment(predictions_df, output_feature='TX_FRAUD', \n",
    "                           prediction_feature='predictions', top_k_list=[100],\n",
    "                           rounded=True,\n",
    "                           threshold=0.5):\n",
    "    \n",
    "    AUC_ROC = metrics.roc_auc_score(predictions_df[output_feature], predictions_df[prediction_feature])\n",
    "    AP = metrics.average_precision_score(predictions_df[output_feature], predictions_df[prediction_feature])\n",
    "    \n",
    "    # Binarizar previsões com o threshold especificado\n",
    "    binary_preds = (predictions_df[prediction_feature] >= threshold).astype(int)\n",
    "    F1 = metrics.f1_score(predictions_df[output_feature], binary_preds)\n",
    "    \n",
    "    performances = pd.DataFrame([[AUC_ROC, AP, F1]], \n",
    "                                columns=['AUC ROC','Average precision', 'F1 Score'])\n",
    "    \n",
    "    for top_k in top_k_list:\n",
    "        _, _, mean_card_precision_top_k = card_precision_top_k(predictions_df, top_k)\n",
    "        performances['Card Precision@'+str(top_k)] = mean_card_precision_top_k\n",
    "        \n",
    "    if rounded:\n",
    "        performances = performances.round(3)\n",
    "    \n",
    "    return performances"
   ]
  },
  {
   "cell_type": "markdown",
   "id": "bafa4dbf-0397-4eea-a348-7abb4319da83",
   "metadata": {},
   "source": [
    "## 2. Carregamento de dados (`Data Loading`)"
   ]
  },
  {
   "cell_type": "code",
   "execution_count": 309,
   "id": "89d25d4d-863e-4436-b72b-27d73746d371",
   "metadata": {},
   "outputs": [
    {
     "name": "stdout",
     "output_type": "stream",
     "text": [
      "Load  files\n",
      "CPU times: total: 953 ms\n",
      "Wall time: 1.17 s\n",
      "919767 transactions loaded, containing 8195 fraudulent transactions\n"
     ]
    }
   ],
   "source": [
    "DIR_INPUT='simulated-data-transformed/data/' \n",
    "\n",
    "BEGIN_DATE = \"2018-06-11\"\n",
    "END_DATE = \"2018-09-14\"\n",
    "\n",
    "print(\"Load  files\")\n",
    "%time transactions_df=read_from_files(DIR_INPUT, BEGIN_DATE, END_DATE)\n",
    "print(\"{0} transactions loaded, containing {1} fraudulent transactions\".format(len(transactions_df),transactions_df.TX_FRAUD.sum()))\n",
    "\n",
    "output_feature=\"TX_FRAUD\"\n",
    "\n",
    "input_features=['TX_AMOUNT','TX_DURING_WEEKEND', 'TX_DURING_NIGHT', 'CUSTOMER_ID_NB_TX_1DAY_WINDOW',\n",
    "       'CUSTOMER_ID_AVG_AMOUNT_1DAY_WINDOW', 'CUSTOMER_ID_NB_TX_7DAY_WINDOW',\n",
    "       'CUSTOMER_ID_AVG_AMOUNT_7DAY_WINDOW', 'CUSTOMER_ID_NB_TX_30DAY_WINDOW',\n",
    "       'CUSTOMER_ID_AVG_AMOUNT_30DAY_WINDOW', 'TERMINAL_ID_NB_TX_1DAY_WINDOW',\n",
    "       'TERMINAL_ID_RISK_1DAY_WINDOW', 'TERMINAL_ID_NB_TX_7DAY_WINDOW',\n",
    "       'TERMINAL_ID_RISK_7DAY_WINDOW', 'TERMINAL_ID_NB_TX_30DAY_WINDOW',\n",
    "       'TERMINAL_ID_RISK_30DAY_WINDOW']"
   ]
  },
  {
   "cell_type": "code",
   "execution_count": 310,
   "id": "490aeb95-5eb2-4061-9de6-9a836c0599d7",
   "metadata": {},
   "outputs": [],
   "source": [
    "# Define o dia de início do período de treinamento, e os deltas\n",
    "start_date_training = datetime.datetime.strptime(\"2018-07-25\", \"%Y-%m-%d\")\n",
    "delta_train=7\n",
    "delta_delay=7\n",
    "delta_test=7\n",
    "\n",
    "\n",
    "delta_valid = delta_test\n",
    "\n",
    "start_date_training_with_valid = start_date_training+datetime.timedelta(days=-(delta_delay+delta_valid))\n",
    "\n",
    "(train_df, valid_df)=get_train_test_set(transactions_df,start_date_training_with_valid,\n",
    "                                       delta_train=delta_train,delta_delay=delta_delay,delta_test=delta_test)\n",
    "\n",
    "# Por default, escala dados de entrada\n",
    "(train_df, valid_df)=scaleData(train_df, valid_df,input_features)"
   ]
  },
  {
   "cell_type": "markdown",
   "id": "107328e6-0cc9-4770-9baa-da30aac7b898",
   "metadata": {},
   "source": [
    "## 3. Implementação do Autoencoder"
   ]
  },
  {
   "cell_type": "code",
   "execution_count": 311,
   "id": "af42ab6f-e465-4c35-8259-75546c0c8806",
   "metadata": {},
   "outputs": [
    {
     "name": "stdout",
     "output_type": "stream",
     "text": [
      "Selected device is cpu\n"
     ]
    }
   ],
   "source": [
    "SEED = 42\n",
    "\n",
    "if torch.cuda.is_available():\n",
    "    DEVICE = \"cuda\" \n",
    "else:\n",
    "    DEVICE = \"cpu\"\n",
    "print(\"Selected device is\",DEVICE)\n",
    "\n",
    "seed_everything(SEED)"
   ]
  },
  {
   "cell_type": "code",
   "execution_count": 312,
   "id": "3910354f-c16c-4dcd-a261-6dcc99345ddd",
   "metadata": {},
   "outputs": [],
   "source": [
    "x_train = torch.FloatTensor(train_df[input_features].values)\n",
    "x_valid = torch.FloatTensor(valid_df[input_features].values)\n",
    "y_train = torch.FloatTensor(train_df[output_feature].values)\n",
    "y_valid = torch.FloatTensor(valid_df[output_feature].values)"
   ]
  },
  {
   "cell_type": "markdown",
   "id": "e012f884-d236-4a1f-8374-85cbbe213acc",
   "metadata": {},
   "source": [
    "Adaptação do Dataset para o Autoencoder:"
   ]
  },
  {
   "cell_type": "code",
   "execution_count": 313,
   "id": "add9eabd-1d1f-4ff3-a796-e06c7d992c4b",
   "metadata": {},
   "outputs": [],
   "source": [
    "class FraudDatasetUnsupervised(torch.utils.data.Dataset):\n",
    "    \n",
    "    def __init__(self, x,output=True):\n",
    "        'Initialization'\n",
    "        self.x = x\n",
    "        self.output = output\n",
    "\n",
    "    def __len__(self):\n",
    "        'Returns the total number of samples'\n",
    "        return len(self.x)\n",
    "\n",
    "    def __getitem__(self, index):\n",
    "        'Generates one sample of data'\n",
    "        # Select sample index\n",
    "        item = self.x[index].to(DEVICE)\n",
    "        if self.output:\n",
    "            return item, item\n",
    "        else:\n",
    "            return item"
   ]
  },
  {
   "cell_type": "code",
   "execution_count": 314,
   "id": "f8f06f77-5294-40e5-b725-83fcf1f27467",
   "metadata": {},
   "outputs": [],
   "source": [
    "training_set = FraudDatasetUnsupervised(x_train)\n",
    "valid_set = FraudDatasetUnsupervised(x_valid)\n",
    "\n",
    "training_generator,valid_generator = prepare_generators(training_set, valid_set, batch_size = 64) #Função para geração de DataLoaders a partir do dataset"
   ]
  },
  {
   "cell_type": "markdown",
   "id": "86801f26-fa28-4183-8d55-e306eebdeb53",
   "metadata": {},
   "source": [
    "Autoencoder:"
   ]
  },
  {
   "cell_type": "code",
   "execution_count": 315,
   "id": "67c5876c-0bbc-4100-a0eb-fbecc73749c2",
   "metadata": {},
   "outputs": [],
   "source": [
    "class SimpleAutoencoder(torch.nn.Module):\n",
    "    \n",
    "        def __init__(self, input_size, intermediate_size, code_size):\n",
    "            super(SimpleAutoencoder, self).__init__()\n",
    "            # parametros\n",
    "            self.input_size = input_size\n",
    "            self.intermediate_size = intermediate_size           \n",
    "            self.code_size  = code_size\n",
    "            \n",
    "            self.relu = torch.nn.ReLU()   \n",
    "            \n",
    "            #encoder\n",
    "            self.fc1 = torch.nn.Linear(self.input_size, self.intermediate_size)\n",
    "            self.fc2 = torch.nn.Linear(self.intermediate_size, self.code_size)\n",
    "            \n",
    "            #decoder \n",
    "            self.fc3 = torch.nn.Linear(self.code_size, self.intermediate_size)            \n",
    "            self.fc4 = torch.nn.Linear(self.intermediate_size, self.input_size)\n",
    "            \n",
    "            \n",
    "        def forward(self, x):\n",
    "            \n",
    "            hidden = self.fc1(x)\n",
    "            hidden = self.relu(hidden)\n",
    "            \n",
    "            code = self.fc2(hidden)\n",
    "            code = self.relu(code)\n",
    " \n",
    "            hidden = self.fc3(code)\n",
    "            hidden = self.relu(hidden)\n",
    "            \n",
    "            output = self.fc4(hidden)\n",
    "            #saída linear          \n",
    "            \n",
    "            return output"
   ]
  },
  {
   "cell_type": "code",
   "execution_count": 316,
   "id": "0e4cd40c-f9ba-4119-badb-f9e6862cf150",
   "metadata": {},
   "outputs": [],
   "source": [
    "criterion = torch.nn.MSELoss().to(DEVICE)"
   ]
  },
  {
   "cell_type": "markdown",
   "id": "8364c95f-cb91-4918-a540-71ac5997b6ac",
   "metadata": {},
   "source": [
    "## 4. Detecção de fraudes (não supervisionada)"
   ]
  },
  {
   "cell_type": "code",
   "execution_count": 317,
   "id": "047cf952-c963-43ea-baf2-e279c2a0395f",
   "metadata": {},
   "outputs": [],
   "source": [
    "def per_sample_mse(model, generator):\n",
    "    \n",
    "    model.eval()\n",
    "    criterion = torch.nn.MSELoss(reduction=\"none\")\n",
    "    batch_losses = []\n",
    "    \n",
    "    for x_batch, y_batch in generator:\n",
    "        # Forward pass\n",
    "        y_pred = model(x_batch)\n",
    "        # Compute Loss\n",
    "        loss = criterion(y_pred.squeeze(), y_batch)\n",
    "        loss_app = list(torch.mean(loss,axis=1).detach().cpu().numpy())\n",
    "        batch_losses.extend(loss_app)\n",
    "    \n",
    "    return batch_losses"
   ]
  },
  {
   "cell_type": "code",
   "execution_count": 318,
   "id": "8c89425c-ed76-4e53-ae52-fc293915fa92",
   "metadata": {},
   "outputs": [],
   "source": [
    "seed_everything(SEED)\n",
    "model = SimpleAutoencoder(x_train.shape[1], 100, 20).to(DEVICE)\n",
    "losses = per_sample_mse(model, valid_generator)"
   ]
  },
  {
   "cell_type": "code",
   "execution_count": 319,
   "id": "5f6ca966-685a-4ecb-a20a-5be5c4bb39fa",
   "metadata": {},
   "outputs": [
    {
     "name": "stdout",
     "output_type": "stream",
     "text": [
      "[0.6754841, 0.79146266, 1.1697072, 0.8070149, 1.258897]\n",
      "0.9325165\n"
     ]
    }
   ],
   "source": [
    "print(losses[0:5])\n",
    "print(np.mean(losses))"
   ]
  },
  {
   "cell_type": "markdown",
   "id": "4e67bc73-aeaf-49e9-9793-86691335814d",
   "metadata": {},
   "source": [
    "### 4.1 Treinamento"
   ]
  },
  {
   "cell_type": "code",
   "execution_count": 320,
   "id": "8e08d0d2-e76e-4e38-8120-4ff4b5cb7e5d",
   "metadata": {},
   "outputs": [],
   "source": [
    "seed_everything(SEED)\n",
    "\n",
    "training_generator,valid_generator = prepare_generators(training_set, valid_set, batch_size = 64)\n",
    "\n",
    "criterion = torch.nn.MSELoss().to(DEVICE)\n",
    "\n",
    "model = SimpleAutoencoder(len(input_features), 100,20).to(DEVICE)\n",
    "\n",
    "optimizer = torch.optim.Adam(model.parameters(), lr = 0.0001)"
   ]
  },
  {
   "cell_type": "code",
   "execution_count": 321,
   "id": "34789136-67d1-487e-ad3c-5817f458bdfd",
   "metadata": {
    "scrolled": true
   },
   "outputs": [
    {
     "name": "stdout",
     "output_type": "stream",
     "text": [
      "\n",
      "Epoch 0: train loss: 0.4457241622072219\n",
      "valid loss: 0.11789107639444331\n",
      "New best score: 0.11789107639444331\n",
      "\n",
      "Epoch 1: train loss: 0.08445224025594801\n",
      "valid loss: 0.044737972811760146\n",
      "New best score: 0.044737972811760146\n",
      "\n",
      "Epoch 2: train loss: 0.03813445719535931\n",
      "valid loss: 0.028129153183656313\n",
      "New best score: 0.028129153183656313\n",
      "\n",
      "Epoch 3: train loss: 0.02394556577707397\n",
      "valid loss: 0.016839738651255116\n",
      "New best score: 0.016839738651255116\n",
      "\n",
      "Epoch 4: train loss: 0.013857098703627006\n",
      "valid loss: 0.009604490618603152\n",
      "New best score: 0.009604490618603152\n",
      "\n",
      "Epoch 5: train loss: 0.007683125645078961\n",
      "valid loss: 0.005340869447389424\n",
      "New best score: 0.005340869447389424\n",
      "\n",
      "Epoch 6: train loss: 0.005279009854803876\n",
      "valid loss: 0.004115886983202129\n",
      "New best score: 0.004115886983202129\n",
      "\n",
      "Epoch 7: train loss: 0.004053559081707271\n",
      "valid loss: 0.003136056854486303\n",
      "New best score: 0.003136056854486303\n",
      "\n",
      "Epoch 8: train loss: 0.0030781877174595974\n",
      "valid loss: 0.0025031250393873113\n",
      "New best score: 0.0025031250393873113\n",
      "\n",
      "Epoch 9: train loss: 0.002489038441801198\n",
      "valid loss: 0.002192846600531188\n",
      "New best score: 0.002192846600531188\n",
      "\n",
      "Epoch 10: train loss: 0.0021340800122042715\n",
      "valid loss: 0.0018389495218152313\n",
      "New best score: 0.0018389495218152313\n",
      "\n",
      "Epoch 11: train loss: 0.0018568661446321621\n",
      "valid loss: 0.0016022739011432995\n",
      "New best score: 0.0016022739011432995\n",
      "\n",
      "Epoch 12: train loss: 0.0016325297950184681\n",
      "valid loss: 0.0014205192012172905\n",
      "New best score: 0.0014205192012172905\n",
      "\n",
      "Epoch 13: train loss: 0.0014396987664673556\n",
      "valid loss: 0.0012289095540210361\n",
      "New best score: 0.0012289095540210361\n",
      "\n",
      "Epoch 14: train loss: 0.0012724755787518567\n",
      "valid loss: 0.0010766992643170181\n",
      "New best score: 0.0010766992643170181\n",
      "\n",
      "Epoch 15: train loss: 0.0011277428504754478\n",
      "valid loss: 0.000967073216881664\n",
      "New best score: 0.000967073216881664\n",
      "\n",
      "Epoch 16: train loss: 0.0009995985445749001\n",
      "valid loss: 0.0008368678831195082\n",
      "New best score: 0.0008368678831195082\n",
      "\n",
      "Epoch 17: train loss: 0.0008799483916750284\n",
      "valid loss: 0.0007505903304859874\n",
      "New best score: 0.0007505903304859874\n",
      "\n",
      "Epoch 18: train loss: 0.0007859733865592347\n",
      "valid loss: 0.0006712928563203723\n",
      "New best score: 0.0006712928563203723\n",
      "\n",
      "Epoch 19: train loss: 0.0006957117962661193\n",
      "valid loss: 0.0006042739463896272\n",
      "New best score: 0.0006042739463896272\n",
      "\n",
      "Epoch 20: train loss: 0.0006247040317102244\n",
      "valid loss: 0.0005752739264334608\n",
      "New best score: 0.0005752739264334608\n",
      "\n",
      "Epoch 21: train loss: 0.0005639624898989701\n",
      "valid loss: 0.00045610128856096114\n",
      "New best score: 0.00045610128856096114\n",
      "\n",
      "Epoch 22: train loss: 0.000504718679157562\n",
      "valid loss: 0.00042793296673207905\n",
      "New best score: 0.00042793296673207905\n",
      "\n",
      "Epoch 23: train loss: 0.00045500604793505945\n",
      "valid loss: 0.0004357632225738136\n",
      "1  iterations since best score.\n",
      "\n",
      "Epoch 24: train loss: 0.00041405958657780216\n",
      "valid loss: 0.00043886595293039793\n",
      "2  iterations since best score.\n",
      "\n",
      "Epoch 25: train loss: 0.0003758992742114686\n",
      "valid loss: 0.0003434116847792773\n",
      "New best score: 0.0003434116847792773\n",
      "\n",
      "Epoch 26: train loss: 0.0003413291320041798\n",
      "valid loss: 0.00028342648626870063\n",
      "New best score: 0.00028342648626870063\n",
      "\n",
      "Epoch 27: train loss: 0.0003112982202996411\n",
      "valid loss: 0.0003034338932926512\n",
      "1  iterations since best score.\n",
      "\n",
      "Epoch 28: train loss: 0.0002843810004272532\n",
      "valid loss: 0.00022372966475595207\n",
      "New best score: 0.00022372966475595207\n",
      "\n",
      "Epoch 29: train loss: 0.0002644067823909798\n",
      "valid loss: 0.00019793551773993206\n",
      "New best score: 0.00019793551773993206\n",
      "\n",
      "Epoch 30: train loss: 0.00023698542237465548\n",
      "valid loss: 0.00019993182668358067\n",
      "1  iterations since best score.\n",
      "\n",
      "Epoch 31: train loss: 0.00022163121087747506\n",
      "valid loss: 0.0001944929967673185\n",
      "New best score: 0.0001944929967673185\n",
      "\n",
      "Epoch 32: train loss: 0.00020912930252558367\n",
      "valid loss: 0.0001553192996175685\n",
      "New best score: 0.0001553192996175685\n",
      "\n",
      "Epoch 33: train loss: 0.00019309651199527918\n",
      "valid loss: 0.00015392266929164258\n",
      "New best score: 0.00015392266929164258\n",
      "\n",
      "Epoch 34: train loss: 0.00018292420352051207\n",
      "valid loss: 0.00014851572393767963\n",
      "New best score: 0.00014851572393767963\n",
      "\n",
      "Epoch 35: train loss: 0.0001730198582472144\n",
      "valid loss: 0.00015366365659162605\n",
      "1  iterations since best score.\n",
      "\n",
      "Epoch 36: train loss: 0.00016090276668724793\n",
      "valid loss: 0.00011859134704094377\n",
      "New best score: 0.00011859134704094377\n",
      "\n",
      "Epoch 37: train loss: 0.000146397821978867\n",
      "valid loss: 0.00011628808239893161\n",
      "New best score: 0.00011628808239893161\n",
      "\n",
      "Epoch 38: train loss: 0.00014250169776562697\n",
      "valid loss: 0.0001711507112120502\n",
      "1  iterations since best score.\n",
      "\n",
      "Epoch 39: train loss: 0.00013660829325570125\n",
      "valid loss: 0.00011908631409436357\n",
      "2  iterations since best score.\n",
      "\n",
      "Epoch 40: train loss: 0.0001277128293610636\n",
      "valid loss: 9.66945132287569e-05\n",
      "New best score: 9.66945132287569e-05\n",
      "\n",
      "Epoch 41: train loss: 0.00012306980455272716\n",
      "valid loss: 9.466443591376784e-05\n",
      "New best score: 9.466443591376784e-05\n",
      "\n",
      "Epoch 42: train loss: 0.00011739358845228409\n",
      "valid loss: 0.00010774780753134786\n",
      "1  iterations since best score.\n",
      "\n",
      "Epoch 43: train loss: 0.00011063775263858763\n",
      "valid loss: 8.719407476329236e-05\n",
      "New best score: 8.719407476329236e-05\n",
      "\n",
      "Epoch 44: train loss: 0.00010661803785288103\n",
      "valid loss: 9.558068404608416e-05\n",
      "1  iterations since best score.\n",
      "\n",
      "Epoch 45: train loss: 9.99634950047936e-05\n",
      "valid loss: 8.112984118061369e-05\n",
      "New best score: 8.112984118061369e-05\n",
      "\n",
      "Epoch 46: train loss: 9.609973409451188e-05\n",
      "valid loss: 8.116293923149733e-05\n",
      "1  iterations since best score.\n",
      "\n",
      "Epoch 47: train loss: 9.0293156435271e-05\n",
      "valid loss: 7.552763005558598e-05\n",
      "New best score: 7.552763005558598e-05\n",
      "\n",
      "Epoch 48: train loss: 8.914725551750291e-05\n",
      "valid loss: 6.524447722131796e-05\n",
      "New best score: 6.524447722131796e-05\n",
      "\n",
      "Epoch 49: train loss: 8.500409600106566e-05\n",
      "valid loss: 8.57137513632124e-05\n",
      "1  iterations since best score.\n",
      "\n",
      "Epoch 50: train loss: 7.993586482275384e-05\n",
      "valid loss: 6.994430967226505e-05\n",
      "2  iterations since best score.\n",
      "\n",
      "Epoch 51: train loss: 7.67920650884295e-05\n",
      "valid loss: 7.206154973697823e-05\n",
      "3  iterations since best score.\n",
      "Early stopping\n"
     ]
    }
   ],
   "source": [
    "model,training_execution_time,train_losses,valid_losses = training_loop(model,\n",
    "                                                                        training_generator,\n",
    "                                                                        valid_generator,\n",
    "                                                                        optimizer,\n",
    "                                                                        criterion,\n",
    "                                                                        max_epochs=500,\n",
    "                                                                        verbose=True)"
   ]
  },
  {
   "cell_type": "markdown",
   "id": "538a375f-199d-42d1-9f03-20c90799b3ac",
   "metadata": {},
   "source": [
    "`Early Stopping` na época 51."
   ]
  },
  {
   "cell_type": "markdown",
   "id": "df8c2325-a01a-4acf-8e70-ec36ba828754",
   "metadata": {},
   "source": [
    "### 4.2 Avaliação do modelo"
   ]
  },
  {
   "cell_type": "code",
   "execution_count": 322,
   "id": "932b7906-bddd-4542-8482-fa5f3343779d",
   "metadata": {},
   "outputs": [
    {
     "name": "stdout",
     "output_type": "stream",
     "text": [
      "[3.35583e-05, 3.1533546e-05, 3.7850186e-05, 4.6781686e-05, 3.4615405e-05]\n",
      "7.209741e-05\n"
     ]
    }
   ],
   "source": [
    "losses = per_sample_mse(model, valid_generator)\n",
    "print(losses[0:5])\n",
    "print(np.mean(losses))"
   ]
  },
  {
   "cell_type": "code",
   "execution_count": 323,
   "id": "a4b1dbb6-3ca2-4482-b31d-cb35c8626f3d",
   "metadata": {},
   "outputs": [
    {
     "name": "stdout",
     "output_type": "stream",
     "text": [
      "tensor([-0.1323, -0.6306,  2.1808, -0.3003,  0.1241, -1.6917,  0.5035, -1.6630,\n",
      "        -0.0482, -0.9810, -0.0816, -1.9895, -0.1231, -0.9719, -0.1436])\n",
      "tensor([-0.1370, -0.6276,  2.1797, -0.2948,  0.1179, -1.6992,  0.5020, -1.6770,\n",
      "        -0.0482, -0.9776, -0.0745, -1.9811, -0.1188, -0.9687, -0.1389],\n",
      "       grad_fn=<ViewBackward0>)\n"
     ]
    }
   ],
   "source": [
    "print(x_train[0])\n",
    "print(model(x_train[0].to(DEVICE)))"
   ]
  },
  {
   "cell_type": "code",
   "execution_count": 324,
   "id": "be482544-f4e5-4c37-b3c0-d79dc97e50c5",
   "metadata": {},
   "outputs": [
    {
     "name": "stdout",
     "output_type": "stream",
     "text": [
      "Average fraud reconstruction error: 0.0014036155\n",
      "Average genuine reconstruction error: 6.3530766e-05\n"
     ]
    }
   ],
   "source": [
    "genuine_losses = np.array(losses)[y_valid.cpu().numpy() == 0]\n",
    "fraud_losses = np.array(losses)[y_valid.cpu().numpy() == 1]\n",
    "print(\"Average fraud reconstruction error:\", np.mean(fraud_losses))\n",
    "print(\"Average genuine reconstruction error:\", np.mean(genuine_losses))"
   ]
  },
  {
   "cell_type": "code",
   "execution_count": 325,
   "id": "a1236ada-4e51-4833-a27f-9324e6ff47dc",
   "metadata": {},
   "outputs": [
    {
     "data": {
      "text/html": [
       "<div>\n",
       "<style scoped>\n",
       "    .dataframe tbody tr th:only-of-type {\n",
       "        vertical-align: middle;\n",
       "    }\n",
       "\n",
       "    .dataframe tbody tr th {\n",
       "        vertical-align: top;\n",
       "    }\n",
       "\n",
       "    .dataframe thead th {\n",
       "        text-align: right;\n",
       "    }\n",
       "</style>\n",
       "<table border=\"1\" class=\"dataframe\">\n",
       "  <thead>\n",
       "    <tr style=\"text-align: right;\">\n",
       "      <th></th>\n",
       "      <th>AUC ROC</th>\n",
       "      <th>Average precision</th>\n",
       "      <th>F1 Score</th>\n",
       "      <th>Card Precision@100</th>\n",
       "    </tr>\n",
       "  </thead>\n",
       "  <tbody>\n",
       "    <tr>\n",
       "      <th>0</th>\n",
       "      <td>0.839</td>\n",
       "      <td>0.165</td>\n",
       "      <td>0.281</td>\n",
       "      <td>0.199</td>\n",
       "    </tr>\n",
       "  </tbody>\n",
       "</table>\n",
       "</div>"
      ],
      "text/plain": [
       "   AUC ROC  Average precision  F1 Score  Card Precision@100\n",
       "0    0.839              0.165     0.281               0.199"
      ]
     },
     "execution_count": 325,
     "metadata": {},
     "output_type": "execute_result"
    }
   ],
   "source": [
    "predictions_df=valid_df.copy()\n",
    "predictions_df['predictions']=losses\n",
    "    \n",
    "result1 = performance_assessment(predictions_df, threshold = 0.001)\n",
    "result1"
   ]
  },
  {
   "cell_type": "markdown",
   "id": "5fbe0cfa-17fc-405a-820d-d3eab8057197",
   "metadata": {},
   "source": [
    "### 4.3 Curva de $\\textit{Precision-Recall}$"
   ]
  },
  {
   "cell_type": "code",
   "execution_count": 326,
   "id": "a50de254-d70b-48f9-b48f-55a7cc41a7cb",
   "metadata": {},
   "outputs": [],
   "source": [
    "def plot_precision_recall_curve(y_true, y_scores, ax, title, fs, baseline):\n",
    "    precision, recall, _ = metrics.precision_recall_curve(y_true, y_scores)\n",
    "\n",
    "    ax.plot(recall, precision, color='b', alpha=0.8, label='Precision-Recall curve')\n",
    "    ax.set_title(title, fontsize=fs)\n",
    "    ax.set_xlim([-0.01, 1.01])\n",
    "    ax.set_ylim([-0.01, 1.01])\n",
    "\n",
    "    ax.set_xlabel('Recall (True Positive Rate)', fontsize=fs)\n",
    "    ax.set_ylabel('Precision', fontsize=fs)\n",
    "\n",
    "    ax.plot([0, 1], [baseline, baseline], 'r--', label='AP Random = {0:0.3f}'.format(baseline))\n",
    "    ax.legend(loc=\"lower left\", fontsize=fs*0.8)\n",
    "    return"
   ]
  },
  {
   "cell_type": "code",
   "execution_count": 327,
   "id": "29f5ad73-0272-481b-8b74-7fd51457aab5",
   "metadata": {},
   "outputs": [
    {
     "data": {
      "image/png": "[encoded data removed]",
      "text/plain": [
       "<Figure size 800x600 with 1 Axes>"
      ]
     },
     "metadata": {},
     "output_type": "display_data"
    }
   ],
   "source": [
    "from sklearn.metrics import average_precision_score, precision_recall_curve\n",
    "import matplotlib.pyplot as plt\n",
    "\n",
    "# Calcular a precisão média para o baseline\n",
    "average_precision = average_precision_score(predictions_df[output_feature], predictions_df['predictions'])\n",
    "\n",
    "# Plotting da Curva de Precision-Recall\n",
    "fig, ax = plt.subplots(figsize=(8, 6))\n",
    "plot_precision_recall_curve(\n",
    "    y_true=predictions_df[output_feature],\n",
    "    y_scores=predictions_df['predictions'],\n",
    "    ax=ax,\n",
    "    title='Precision-Recall Curve for Autoencoder Anomaly Detection',\n",
    "    fs=12,\n",
    "    baseline=average_precision\n",
    ")\n",
    "plt.show()"
   ]
  },
  {
   "cell_type": "markdown",
   "id": "6f4c1daf-c8c8-463a-8cdc-723a6a75fa35",
   "metadata": {},
   "source": [
    "## 5. Variação dos métodos de Amostragem"
   ]
  },
  {
   "cell_type": "markdown",
   "id": "9a1de7c1-280d-4456-9149-4c03aabd9d3e",
   "metadata": {},
   "source": [
    "O método \"sem nada\" foi já avaliado nas células acima ( `get_train_test_set(sampling_ratio=1.0)`). \n",
    "Dessa forma temos os seguintes métodos a serem avaliados:\n",
    "- Oversampling;\n",
    "- Undersampling."
   ]
  },
  {
   "cell_type": "markdown",
   "id": "11ad8bf4-b3bb-4730-aea8-82939a852918",
   "metadata": {},
   "source": [
    "### 5.1 Oversampling"
   ]
  },
  {
   "cell_type": "code",
   "execution_count": 328,
   "id": "9f475555-25ff-45d0-ba6c-597d6519e3ab",
   "metadata": {},
   "outputs": [],
   "source": [
    "from imblearn.over_sampling import SMOTE\n",
    "import pandas as pd\n",
    "\n",
    "# Separação dos features e do target\n",
    "X_train_resample = train_df[input_features]\n",
    "y_train_resample = train_df[output_feature]\n",
    "\n",
    "# RandomOverSampler\n",
    "smote = SMOTE(random_state=42)\n",
    "X_resampled, y_resampled = smote.fit_resample(X_train_resample, y_train_resample)\n",
    "\n",
    "# Converter de volta para DataFrame\n",
    "train_df_resampled = pd.DataFrame(X_resampled, columns=input_features)\n",
    "train_df_resampled[output_feature] = y_resampled\n",
    "\n",
    "# Criação do training_set\n",
    "x_train = torch.FloatTensor(train_df_resampled[input_features].values)\n",
    "y_train = torch.FloatTensor(train_df_resampled[output_feature].values) # Keep y_train for potential future use or if you adapt the dataset class\n",
    "\n",
    "training_set = FraudDatasetUnsupervised(x_train)\n",
    "valid_set = FraudDatasetUnsupervised(x_valid)"
   ]
  },
  {
   "cell_type": "markdown",
   "id": "5093bc38-db88-472f-9777-844395996c9e",
   "metadata": {},
   "source": [
    "#### Treinamento"
   ]
  },
  {
   "cell_type": "code",
   "execution_count": 329,
   "id": "93027da9-0187-4848-b893-2bc5c42d3c8e",
   "metadata": {
    "scrolled": true
   },
   "outputs": [
    {
     "name": "stdout",
     "output_type": "stream",
     "text": [
      "\n",
      "Epoch 0: train loss: 0.9511604004514378\n",
      "valid loss: 0.0997266007414281\n",
      "New best score: 0.0997266007414281\n",
      "\n",
      "Epoch 1: train loss: 0.053781496924545945\n",
      "valid loss: 0.03707915507256985\n",
      "New best score: 0.03707915507256985\n",
      "\n",
      "Epoch 2: train loss: 0.023219714225287832\n",
      "valid loss: 0.01622829659348303\n",
      "New best score: 0.01622829659348303\n",
      "\n",
      "Epoch 3: train loss: 0.01344432110509846\n",
      "valid loss: 0.011489046858674516\n",
      "New best score: 0.011489046858674516\n",
      "\n",
      "Epoch 4: train loss: 0.007625145251205565\n",
      "valid loss: 0.005062429487572912\n",
      "New best score: 0.005062429487572912\n",
      "\n",
      "Epoch 5: train loss: 0.003746520075115508\n",
      "valid loss: 0.0033501795999441152\n",
      "New best score: 0.0033501795999441152\n",
      "\n",
      "Epoch 6: train loss: 0.002741934545911241\n",
      "valid loss: 0.0026754480544884836\n",
      "New best score: 0.0026754480544884836\n",
      "\n",
      "Epoch 7: train loss: 0.002174187183935684\n",
      "valid loss: 0.0021766856451432316\n",
      "New best score: 0.0021766856451432316\n",
      "\n",
      "Epoch 8: train loss: 0.0017714579463248684\n",
      "valid loss: 0.0017877320986739843\n",
      "New best score: 0.0017877320986739843\n",
      "\n",
      "Epoch 9: train loss: 0.001451112748425756\n",
      "valid loss: 0.0014862445141748612\n",
      "New best score: 0.0014862445141748612\n",
      "\n",
      "Epoch 10: train loss: 0.0012064750228941523\n",
      "valid loss: 0.0012412226533700453\n",
      "New best score: 0.0012412226533700453\n",
      "\n",
      "Epoch 11: train loss: 0.0009988972870116103\n",
      "valid loss: 0.0010271969617120515\n",
      "New best score: 0.0010271969617120515\n",
      "\n",
      "Epoch 12: train loss: 0.000838066273987829\n",
      "valid loss: 0.0008711606010290809\n",
      "New best score: 0.0008711606010290809\n",
      "\n",
      "Epoch 13: train loss: 0.0007125471655569762\n",
      "valid loss: 0.0007184595545522279\n",
      "New best score: 0.0007184595545522279\n",
      "\n",
      "Epoch 14: train loss: 0.0006010874101522866\n",
      "valid loss: 0.0006050848127902572\n",
      "New best score: 0.0006050848127902572\n",
      "\n",
      "Epoch 15: train loss: 0.0005160222656576055\n",
      "valid loss: 0.0005181720095452511\n",
      "New best score: 0.0005181720095452511\n",
      "\n",
      "Epoch 16: train loss: 0.00044633196700969124\n",
      "valid loss: 0.0004434356774786192\n",
      "New best score: 0.0004434356774786192\n",
      "\n",
      "Epoch 17: train loss: 0.00039001328911641064\n",
      "valid loss: 0.0003846375300940839\n",
      "New best score: 0.0003846375300940839\n",
      "\n",
      "Epoch 18: train loss: 0.00034616201905936857\n",
      "valid loss: 0.00034405025300478226\n",
      "New best score: 0.00034405025300478226\n",
      "\n",
      "Epoch 19: train loss: 0.00030824389881862314\n",
      "valid loss: 0.0003007133871118431\n",
      "New best score: 0.0003007133871118431\n",
      "\n",
      "Epoch 20: train loss: 0.0002776474587521655\n",
      "valid loss: 0.0002650878786731542\n",
      "New best score: 0.0002650878786731542\n",
      "\n",
      "Epoch 21: train loss: 0.00024885690377706153\n",
      "valid loss: 0.00024072234590392805\n",
      "New best score: 0.00024072234590392805\n",
      "\n",
      "Epoch 22: train loss: 0.00022438778777678252\n",
      "valid loss: 0.00021942233996939098\n",
      "New best score: 0.00021942233996939098\n",
      "\n",
      "Epoch 23: train loss: 0.0002078021565972435\n",
      "valid loss: 0.00019814759233484269\n",
      "New best score: 0.00019814759233484269\n",
      "\n",
      "Epoch 24: train loss: 0.00019050879168266751\n",
      "valid loss: 0.0001826735552307473\n",
      "New best score: 0.0001826735552307473\n",
      "\n",
      "Epoch 25: train loss: 0.00017817379623896135\n",
      "valid loss: 0.00016768666240641125\n",
      "New best score: 0.00016768666240641125\n",
      "\n",
      "Epoch 26: train loss: 0.0001634988214928611\n",
      "valid loss: 0.00015468802498294106\n",
      "New best score: 0.00015468802498294106\n",
      "\n",
      "Epoch 27: train loss: 0.00015290226105924053\n",
      "valid loss: 0.00014507106748741004\n",
      "New best score: 0.00014507106748741004\n",
      "\n",
      "Epoch 28: train loss: 0.00014310423401177357\n",
      "valid loss: 0.0001346069768349808\n",
      "New best score: 0.0001346069768349808\n",
      "\n",
      "Epoch 29: train loss: 0.00014156863966856276\n",
      "valid loss: 0.00012650356183173338\n",
      "New best score: 0.00012650356183173338\n",
      "\n",
      "Epoch 30: train loss: 0.0001263223269859062\n",
      "valid loss: 0.00012038201595038873\n",
      "New best score: 0.00012038201595038873\n",
      "\n",
      "Epoch 31: train loss: 0.0001216476449656276\n",
      "valid loss: 0.00011002305755972203\n",
      "New best score: 0.00011002305755972203\n",
      "\n",
      "Epoch 32: train loss: 0.00011453236768734999\n",
      "valid loss: 0.00010509487097219963\n",
      "New best score: 0.00010509487097219963\n",
      "\n",
      "Epoch 33: train loss: 0.0001113454929305646\n",
      "valid loss: 9.945358383969297e-05\n",
      "New best score: 9.945358383969297e-05\n",
      "\n",
      "Epoch 34: train loss: 0.00010378574117837431\n",
      "valid loss: 9.633860910205422e-05\n",
      "New best score: 9.633860910205422e-05\n",
      "\n",
      "Epoch 35: train loss: 0.00010012282496853664\n",
      "valid loss: 8.956403685633482e-05\n",
      "New best score: 8.956403685633482e-05\n",
      "\n",
      "Epoch 36: train loss: 9.544491999225042e-05\n",
      "valid loss: 8.764661524864358e-05\n",
      "New best score: 8.764661524864358e-05\n",
      "\n",
      "Epoch 37: train loss: 9.219986434143713e-05\n",
      "valid loss: 8.994847782157537e-05\n",
      "1  iterations since best score.\n",
      "\n",
      "Epoch 38: train loss: 8.762808724755413e-05\n",
      "valid loss: 8.395001365942498e-05\n",
      "New best score: 8.395001365942498e-05\n",
      "\n",
      "Epoch 39: train loss: 8.544874779450541e-05\n",
      "valid loss: 7.535561783354706e-05\n",
      "New best score: 7.535561783354706e-05\n",
      "\n",
      "Epoch 40: train loss: 8.189087582081372e-05\n",
      "valid loss: 7.573381433141917e-05\n",
      "1  iterations since best score.\n",
      "\n",
      "Epoch 41: train loss: 7.84438704304404e-05\n",
      "valid loss: 7.131461187996113e-05\n",
      "New best score: 7.131461187996113e-05\n",
      "\n",
      "Epoch 42: train loss: 7.455951157782664e-05\n",
      "valid loss: 6.85659857769624e-05\n",
      "New best score: 6.85659857769624e-05\n",
      "\n",
      "Epoch 43: train loss: 7.25327873996563e-05\n",
      "valid loss: 6.584360952197403e-05\n",
      "New best score: 6.584360952197403e-05\n",
      "\n",
      "Epoch 44: train loss: 6.788933537668404e-05\n",
      "valid loss: 6.477009021599784e-05\n",
      "New best score: 6.477009021599784e-05\n",
      "\n",
      "Epoch 45: train loss: 6.713599034276855e-05\n",
      "valid loss: 6.705636422865824e-05\n",
      "1  iterations since best score.\n",
      "\n",
      "Epoch 46: train loss: 6.327912109305425e-05\n",
      "valid loss: 5.896359419592025e-05\n",
      "New best score: 5.896359419592025e-05\n",
      "\n",
      "Epoch 47: train loss: 6.223219856914666e-05\n",
      "valid loss: 5.953813928638743e-05\n",
      "1  iterations since best score.\n",
      "\n",
      "Epoch 48: train loss: 5.865844344773985e-05\n",
      "valid loss: 5.459083964583964e-05\n",
      "New best score: 5.459083964583964e-05\n",
      "\n",
      "Epoch 49: train loss: 5.8903065818374244e-05\n",
      "valid loss: 5.2230969742366716e-05\n",
      "New best score: 5.2230969742366716e-05\n",
      "\n",
      "Epoch 50: train loss: 5.473910187738932e-05\n",
      "valid loss: 5.285602669548714e-05\n",
      "1  iterations since best score.\n",
      "\n",
      "Epoch 51: train loss: 5.3973987406136645e-05\n",
      "valid loss: 5.802816323991012e-05\n",
      "2  iterations since best score.\n",
      "\n",
      "Epoch 52: train loss: 5.23477771187653e-05\n",
      "valid loss: 4.889158716765162e-05\n",
      "New best score: 4.889158716765162e-05\n",
      "\n",
      "Epoch 53: train loss: 5.0681494740204274e-05\n",
      "valid loss: 4.917700363895945e-05\n",
      "1  iterations since best score.\n",
      "\n",
      "Epoch 54: train loss: 5.131791777112647e-05\n",
      "valid loss: 4.743197880357076e-05\n",
      "New best score: 4.743197880357076e-05\n",
      "\n",
      "Epoch 55: train loss: 4.9451632633596745e-05\n",
      "valid loss: 4.348122777136283e-05\n",
      "New best score: 4.348122777136283e-05\n",
      "\n",
      "Epoch 56: train loss: 4.785923262872361e-05\n",
      "valid loss: 8.181317004771481e-05\n",
      "1  iterations since best score.\n",
      "\n",
      "Epoch 57: train loss: 4.619477939324926e-05\n",
      "valid loss: 4.0653970801960764e-05\n",
      "New best score: 4.0653970801960764e-05\n",
      "\n",
      "Epoch 58: train loss: 4.364297622497891e-05\n",
      "valid loss: 4.0267046434102486e-05\n",
      "New best score: 4.0267046434102486e-05\n",
      "\n",
      "Epoch 59: train loss: 4.409788877732578e-05\n",
      "valid loss: 4.576033167966452e-05\n",
      "1  iterations since best score.\n",
      "\n",
      "Epoch 60: train loss: 4.276551452971329e-05\n",
      "valid loss: 4.074100987034528e-05\n",
      "2  iterations since best score.\n",
      "\n",
      "Epoch 61: train loss: 4.161010209367495e-05\n",
      "valid loss: 4.35667596708508e-05\n",
      "3  iterations since best score.\n",
      "Early stopping\n"
     ]
    }
   ],
   "source": [
    "seed_everything(SEED)\n",
    "\n",
    "training_generator, valid_generator = prepare_generators(training_set, valid_set, batch_size=64)\n",
    "\n",
    "criterion = torch.nn.MSELoss().to(DEVICE)\n",
    "\n",
    "OS = SimpleAutoencoder(len(input_features), 100,20).to(DEVICE)\n",
    "\n",
    "optimizer = torch.optim.Adam(OS.parameters(), lr = 0.0001)\n",
    "\n",
    "OS,training_execution_time,train_losses,valid_losses = training_loop(OS,\n",
    "                                                                        training_generator,\n",
    "                                                                        valid_generator,\n",
    "                                                                        optimizer,\n",
    "                                                                        criterion,\n",
    "                                                                        max_epochs=500,\n",
    "                                                                        patience=2,\n",
    "                                                                        verbose=True)"
   ]
  },
  {
   "cell_type": "markdown",
   "id": "8d71aea4-d77a-4f04-b627-f8e7ada78fbb",
   "metadata": {},
   "source": [
    "`Early Stopping` na época 61."
   ]
  },
  {
   "cell_type": "markdown",
   "id": "4c45dca6-03c1-4925-b785-012543fde4a8",
   "metadata": {},
   "source": [
    "#### Avaliação"
   ]
  },
  {
   "cell_type": "code",
   "execution_count": 330,
   "id": "31dbb31c-6781-4450-9c86-f928d8bca83a",
   "metadata": {},
   "outputs": [
    {
     "name": "stdout",
     "output_type": "stream",
     "text": [
      "[1.37783345e-05, 8.390302e-06, 5.299761e-06, 1.819799e-05, 1.5390668e-05]\n",
      "4.359615e-05\n"
     ]
    }
   ],
   "source": [
    "losses_OS = per_sample_mse(OS, valid_generator)\n",
    "print(losses_OS[0:5])\n",
    "print(np.mean(losses_OS))"
   ]
  },
  {
   "cell_type": "code",
   "execution_count": 331,
   "id": "ef38a2f5-8acb-4cd3-86b6-cff6766c3619",
   "metadata": {},
   "outputs": [
    {
     "name": "stdout",
     "output_type": "stream",
     "text": [
      "Average fraud reconstruction error: 0.00015856806\n",
      "Average genuine reconstruction error: 4.285645e-05\n"
     ]
    }
   ],
   "source": [
    "genuine_losses = np.array(losses_OS)[y_valid.cpu().numpy() == 0]\n",
    "fraud_losses = np.array(losses_OS)[y_valid.cpu().numpy() == 1]\n",
    "print(\"Average fraud reconstruction error:\", np.mean(fraud_losses))\n",
    "print(\"Average genuine reconstruction error:\", np.mean(genuine_losses))"
   ]
  },
  {
   "cell_type": "code",
   "execution_count": 332,
   "id": "ee937e8d-ca24-4dda-a8b2-b846bcab4202",
   "metadata": {},
   "outputs": [
    {
     "data": {
      "text/html": [
       "<div>\n",
       "<style scoped>\n",
       "    .dataframe tbody tr th:only-of-type {\n",
       "        vertical-align: middle;\n",
       "    }\n",
       "\n",
       "    .dataframe tbody tr th {\n",
       "        vertical-align: top;\n",
       "    }\n",
       "\n",
       "    .dataframe thead th {\n",
       "        text-align: right;\n",
       "    }\n",
       "</style>\n",
       "<table border=\"1\" class=\"dataframe\">\n",
       "  <thead>\n",
       "    <tr style=\"text-align: right;\">\n",
       "      <th></th>\n",
       "      <th>AUC ROC</th>\n",
       "      <th>Average precision</th>\n",
       "      <th>F1 Score</th>\n",
       "      <th>Card Precision@100</th>\n",
       "    </tr>\n",
       "  </thead>\n",
       "  <tbody>\n",
       "    <tr>\n",
       "      <th>0</th>\n",
       "      <td>0.815</td>\n",
       "      <td>0.032</td>\n",
       "      <td>0.021</td>\n",
       "      <td>0.033</td>\n",
       "    </tr>\n",
       "  </tbody>\n",
       "</table>\n",
       "</div>"
      ],
      "text/plain": [
       "   AUC ROC  Average precision  F1 Score  Card Precision@100\n",
       "0    0.815              0.032     0.021               0.033"
      ]
     },
     "execution_count": 332,
     "metadata": {},
     "output_type": "execute_result"
    }
   ],
   "source": [
    "predictions_df_OS=valid_df.copy()\n",
    "predictions_df_OS['predictions']=losses_OS\n",
    "    \n",
    "result2 = performance_assessment(predictions_df_OS, threshold = 0.001)\n",
    "result2"
   ]
  },
  {
   "cell_type": "code",
   "execution_count": 333,
   "id": "ced8025c-6fb2-4144-bd59-8f33a5154445",
   "metadata": {},
   "outputs": [
    {
     "data": {
      "image/png": "[encoded data removed]",
      "text/plain": [
       "<Figure size 800x600 with 1 Axes>"
      ]
     },
     "metadata": {},
     "output_type": "display_data"
    }
   ],
   "source": [
    "average_precision = average_precision_score(predictions_df_OS[output_feature], predictions_df_OS['predictions'])\n",
    "\n",
    "# Plotting da Curva de Precision-Recall\n",
    "fig, ax = plt.subplots(figsize=(8, 6))\n",
    "plot_precision_recall_curve(\n",
    "    y_true=predictions_df_OS[output_feature],\n",
    "    y_scores=predictions_df_OS['predictions'],\n",
    "    ax=ax,\n",
    "    title='Precision-Recall Curve for Autoencoder Anomaly Detection',\n",
    "    fs=12,\n",
    "    baseline=average_precision\n",
    ")\n",
    "plt.show()"
   ]
  },
  {
   "cell_type": "markdown",
   "id": "24220300-b46d-4bf4-950b-5feda5ecb5e5",
   "metadata": {},
   "source": [
    "### 5.2 Undersampling"
   ]
  },
  {
   "cell_type": "code",
   "execution_count": 334,
   "id": "159b0f14-0440-4243-9263-e6a0067e8629",
   "metadata": {},
   "outputs": [],
   "source": [
    "(train_df, valid_df) = get_train_test_set(\n",
    "    transactions_df,\n",
    "    start_date_training_with_valid,\n",
    "    delta_train=delta_train,\n",
    "    delta_delay=delta_delay,\n",
    "    delta_test=delta_test,\n",
    "    sampling_ratio=0.5 # subsample to 50%\n",
    ")\n",
    "\n",
    "# scaling\n",
    "(train_df, valid_df) = scaleData(train_df, valid_df, input_features)\n",
    "\n",
    "x_train = torch.FloatTensor(train_df[input_features].values)\n",
    "x_valid = torch.FloatTensor(valid_df[input_features].values)\n",
    "y_train = torch.FloatTensor(train_df[output_feature].values)\n",
    "y_valid = torch.FloatTensor(valid_df[output_feature].values)\n",
    "\n",
    "training_set = FraudDatasetUnsupervised(x_train)\n",
    "valid_set = FraudDatasetUnsupervised(x_valid)"
   ]
  },
  {
   "cell_type": "markdown",
   "id": "fda6ae8d-5e7b-4ecf-b987-0d9ccfe3993b",
   "metadata": {},
   "source": [
    "### Treinamento"
   ]
  },
  {
   "cell_type": "code",
   "execution_count": 335,
   "id": "3e05a394-8a2a-46ae-98f1-681d5aac4496",
   "metadata": {
    "scrolled": true
   },
   "outputs": [
    {
     "name": "stdout",
     "output_type": "stream",
     "text": [
      "\n",
      "Epoch 0: train loss: 0.6952806051329035\n",
      "valid loss: 0.28819116927235505\n",
      "New best score: 0.28819116927235505\n",
      "\n",
      "Epoch 1: train loss: 0.19649126979007775\n",
      "valid loss: 0.11902363273859676\n",
      "New best score: 0.11902363273859676\n",
      "\n",
      "Epoch 2: train loss: 0.10442716842713137\n",
      "valid loss: 0.07444574251119557\n",
      "New best score: 0.07444574251119557\n",
      "\n",
      "Epoch 3: train loss: 0.0615872154778037\n",
      "valid loss: 0.043778893948008456\n",
      "New best score: 0.043778893948008456\n",
      "\n",
      "Epoch 4: train loss: 0.040223525213807766\n",
      "valid loss: 0.0335394536577613\n",
      "New best score: 0.0335394536577613\n",
      "\n",
      "Epoch 5: train loss: 0.03267000004093574\n",
      "valid loss: 0.02755393966360659\n",
      "New best score: 0.02755393966360659\n",
      "\n",
      "Epoch 6: train loss: 0.02672884306811637\n",
      "valid loss: 0.022656688513488718\n",
      "New best score: 0.022656688513488718\n",
      "\n",
      "Epoch 7: train loss: 0.021714588707352118\n",
      "valid loss: 0.018103028004327434\n",
      "New best score: 0.018103028004327434\n",
      "\n",
      "Epoch 8: train loss: 0.016631200603328743\n",
      "valid loss: 0.013131737661206982\n",
      "New best score: 0.013131737661206982\n",
      "\n",
      "Epoch 9: train loss: 0.01139755975134514\n",
      "valid loss: 0.00852332164182282\n",
      "New best score: 0.00852332164182282\n",
      "\n",
      "Epoch 10: train loss: 0.007803461615915053\n",
      "valid loss: 0.006116367758714844\n",
      "New best score: 0.006116367758714844\n",
      "\n",
      "Epoch 11: train loss: 0.006287423836825911\n",
      "valid loss: 0.005331776891911372\n",
      "New best score: 0.005331776891911372\n",
      "\n",
      "Epoch 12: train loss: 0.005505158660762425\n",
      "valid loss: 0.004694714144767959\n",
      "New best score: 0.004694714144767959\n",
      "\n",
      "Epoch 13: train loss: 0.004837002937751422\n",
      "valid loss: 0.00409547689528576\n",
      "New best score: 0.00409547689528576\n",
      "\n",
      "Epoch 14: train loss: 0.004217037183622586\n",
      "valid loss: 0.003597184074686362\n",
      "New best score: 0.003597184074686362\n",
      "\n",
      "Epoch 15: train loss: 0.003621763659705253\n",
      "valid loss: 0.0030965327180901676\n",
      "New best score: 0.0030965327180901676\n",
      "\n",
      "Epoch 16: train loss: 0.003128459570478883\n",
      "valid loss: 0.002737384406045649\n",
      "New best score: 0.002737384406045649\n",
      "\n",
      "Epoch 17: train loss: 0.002775148276006358\n",
      "valid loss: 0.002461416362861141\n",
      "New best score: 0.002461416362861141\n",
      "\n",
      "Epoch 18: train loss: 0.0025119134213821693\n",
      "valid loss: 0.0022798115074573484\n",
      "New best score: 0.0022798115074573484\n",
      "\n",
      "Epoch 19: train loss: 0.002312737686896116\n",
      "valid loss: 0.0021287517679366664\n",
      "New best score: 0.0021287517679366664\n",
      "\n",
      "Epoch 20: train loss: 0.0021464501794278053\n",
      "valid loss: 0.002038925543396932\n",
      "New best score: 0.002038925543396932\n",
      "\n",
      "Epoch 21: train loss: 0.0019921359268193404\n",
      "valid loss: 0.0018371583407877084\n",
      "New best score: 0.0018371583407877084\n",
      "\n",
      "Epoch 22: train loss: 0.0018670909404113576\n",
      "valid loss: 0.001688461787324358\n",
      "New best score: 0.001688461787324358\n",
      "\n",
      "Epoch 23: train loss: 0.0017343542365407141\n",
      "valid loss: 0.0015854004526236018\n",
      "New best score: 0.0015854004526236018\n",
      "\n",
      "Epoch 24: train loss: 0.0016241962671988638\n",
      "valid loss: 0.0015127891126913246\n",
      "New best score: 0.0015127891126913246\n",
      "\n",
      "Epoch 25: train loss: 0.0015207982537947438\n",
      "valid loss: 0.0014087318407773686\n",
      "New best score: 0.0014087318407773686\n",
      "\n",
      "Epoch 26: train loss: 0.0014314108793525805\n",
      "valid loss: 0.0013314121729144674\n",
      "New best score: 0.0013314121729144674\n",
      "\n",
      "Epoch 27: train loss: 0.0013449392487369762\n",
      "valid loss: 0.0013074767249101986\n",
      "New best score: 0.0013074767249101986\n",
      "\n",
      "Epoch 28: train loss: 0.0012462802895079465\n",
      "valid loss: 0.0011864475885538456\n",
      "New best score: 0.0011864475885538456\n",
      "\n",
      "Epoch 29: train loss: 0.0011785248934200487\n",
      "valid loss: 0.0010987077284314226\n",
      "New best score: 0.0010987077284314226\n",
      "\n",
      "Epoch 30: train loss: 0.001101142161567633\n",
      "valid loss: 0.00099948478444057\n",
      "New best score: 0.00099948478444057\n",
      "\n",
      "Epoch 31: train loss: 0.001029393838359716\n",
      "valid loss: 0.0009082675813201082\n",
      "New best score: 0.0009082675813201082\n",
      "\n",
      "Epoch 32: train loss: 0.0009648419028935139\n",
      "valid loss: 0.0008742618507799779\n",
      "New best score: 0.0008742618507799779\n",
      "\n",
      "Epoch 33: train loss: 0.0009040948548656932\n",
      "valid loss: 0.0008022480635061514\n",
      "New best score: 0.0008022480635061514\n",
      "\n",
      "Epoch 34: train loss: 0.0008519769297426577\n",
      "valid loss: 0.0007786360316428921\n",
      "New best score: 0.0007786360316428921\n",
      "\n",
      "Epoch 35: train loss: 0.0008061336972002817\n",
      "valid loss: 0.0007462199737287325\n",
      "New best score: 0.0007462199737287325\n",
      "\n",
      "Epoch 36: train loss: 0.0007481426904872808\n",
      "valid loss: 0.0007219383703313178\n",
      "New best score: 0.0007219383703313178\n",
      "\n",
      "Epoch 37: train loss: 0.0007070690487715349\n",
      "valid loss: 0.0006189175873016429\n",
      "New best score: 0.0006189175873016429\n",
      "\n",
      "Epoch 38: train loss: 0.0006674611658288832\n",
      "valid loss: 0.0006321879056068596\n",
      "1  iterations since best score.\n",
      "\n",
      "Epoch 39: train loss: 0.0006320362561827536\n",
      "valid loss: 0.0005352264180489373\n",
      "New best score: 0.0005352264180489373\n",
      "\n",
      "Epoch 40: train loss: 0.0005976446617321676\n",
      "valid loss: 0.0005424759436597224\n",
      "1  iterations since best score.\n",
      "\n",
      "Epoch 41: train loss: 0.0005558203876271833\n",
      "valid loss: 0.0004898679905343302\n",
      "New best score: 0.0004898679905343302\n",
      "\n",
      "Epoch 42: train loss: 0.0005293696412365228\n",
      "valid loss: 0.0005293285400069782\n",
      "1  iterations since best score.\n",
      "\n",
      "Epoch 43: train loss: 0.0004960248752850612\n",
      "valid loss: 0.0004599044708404028\n",
      "New best score: 0.0004599044708404028\n",
      "\n",
      "Epoch 44: train loss: 0.00048006458802729216\n",
      "valid loss: 0.000415325923561999\n",
      "New best score: 0.000415325923561999\n",
      "\n",
      "Epoch 45: train loss: 0.00045503043477471567\n",
      "valid loss: 0.0004897329982693301\n",
      "1  iterations since best score.\n",
      "\n",
      "Epoch 46: train loss: 0.00042643547071460956\n",
      "valid loss: 0.00040086739466912394\n",
      "New best score: 0.00040086739466912394\n",
      "\n",
      "Epoch 47: train loss: 0.0004077044943733547\n",
      "valid loss: 0.00034461664326159444\n",
      "New best score: 0.00034461664326159444\n",
      "\n",
      "Epoch 48: train loss: 0.00039095160394219633\n",
      "valid loss: 0.00033223636765185684\n",
      "New best score: 0.00033223636765185684\n",
      "\n",
      "Epoch 49: train loss: 0.00036934064343662035\n",
      "valid loss: 0.00033208661651635754\n",
      "New best score: 0.00033208661651635754\n",
      "\n",
      "Epoch 50: train loss: 0.0003510292247293898\n",
      "valid loss: 0.0003679146892849173\n",
      "1  iterations since best score.\n",
      "\n",
      "Epoch 51: train loss: 0.00033621927937811034\n",
      "valid loss: 0.0002852405892583908\n",
      "New best score: 0.0002852405892583908\n",
      "\n",
      "Epoch 52: train loss: 0.00031573803249317404\n",
      "valid loss: 0.0003070968059715408\n",
      "1  iterations since best score.\n",
      "\n",
      "Epoch 53: train loss: 0.00030974155575385135\n",
      "valid loss: 0.000274851946401934\n",
      "New best score: 0.000274851946401934\n",
      "\n",
      "Epoch 54: train loss: 0.0002943095247771851\n",
      "valid loss: 0.000275096857298135\n",
      "1  iterations since best score.\n",
      "\n",
      "Epoch 55: train loss: 0.0002786522556812392\n",
      "valid loss: 0.00022681445416757745\n",
      "New best score: 0.00022681445416757745\n",
      "\n",
      "Epoch 56: train loss: 0.00026601220674585306\n",
      "valid loss: 0.00022241741535253823\n",
      "New best score: 0.00022241741535253823\n",
      "\n",
      "Epoch 57: train loss: 0.00025839872743282645\n",
      "valid loss: 0.000255936010304299\n",
      "1  iterations since best score.\n",
      "\n",
      "Epoch 58: train loss: 0.0002454922274343828\n",
      "valid loss: 0.00022986963043171313\n",
      "2  iterations since best score.\n",
      "\n",
      "Epoch 59: train loss: 0.00023789270552267884\n",
      "valid loss: 0.00019063389595853078\n",
      "New best score: 0.00019063389595853078\n",
      "\n",
      "Epoch 60: train loss: 0.00023276270460137068\n",
      "valid loss: 0.0002388837987660746\n",
      "1  iterations since best score.\n",
      "\n",
      "Epoch 61: train loss: 0.00021757692342967304\n",
      "valid loss: 0.00018047789729434406\n",
      "New best score: 0.00018047789729434406\n",
      "\n",
      "Epoch 62: train loss: 0.00021282698826169432\n",
      "valid loss: 0.00018992020171727282\n",
      "1  iterations since best score.\n",
      "\n",
      "Epoch 63: train loss: 0.00020180779610553276\n",
      "valid loss: 0.0001678330509879186\n",
      "New best score: 0.0001678330509879186\n",
      "\n",
      "Epoch 64: train loss: 0.0001909728785872706\n",
      "valid loss: 0.00016577546617166963\n",
      "New best score: 0.00016577546617166963\n",
      "\n",
      "Epoch 65: train loss: 0.0001850875213925449\n",
      "valid loss: 0.00016822314530065858\n",
      "1  iterations since best score.\n",
      "\n",
      "Epoch 66: train loss: 0.00018335606484755387\n",
      "valid loss: 0.00015569060577364012\n",
      "New best score: 0.00015569060577364012\n",
      "\n",
      "Epoch 67: train loss: 0.00016993001439041247\n",
      "valid loss: 0.0001540601018651152\n",
      "New best score: 0.0001540601018651152\n",
      "\n",
      "Epoch 68: train loss: 0.00016607300971977922\n",
      "valid loss: 0.0001472138311999247\n",
      "New best score: 0.0001472138311999247\n",
      "\n",
      "Epoch 69: train loss: 0.00016378248113335065\n",
      "valid loss: 0.00013914719063984587\n",
      "New best score: 0.00013914719063984587\n",
      "\n",
      "Epoch 70: train loss: 0.0001596759050648462\n",
      "valid loss: 0.0001282598479549767\n",
      "New best score: 0.0001282598479549767\n",
      "\n",
      "Epoch 71: train loss: 0.00014652898369997384\n",
      "valid loss: 0.00017793592444240608\n",
      "1  iterations since best score.\n",
      "\n",
      "Epoch 72: train loss: 0.00014296347698522643\n",
      "valid loss: 0.00012587086998767225\n",
      "New best score: 0.00012587086998767225\n",
      "\n",
      "Epoch 73: train loss: 0.00014281102217590067\n",
      "valid loss: 0.00012182981006278214\n",
      "New best score: 0.00012182981006278214\n",
      "\n",
      "Epoch 74: train loss: 0.00013220900151528905\n",
      "valid loss: 0.00011747408297609174\n",
      "New best score: 0.00011747408297609174\n",
      "\n",
      "Epoch 75: train loss: 0.00012982633503256423\n",
      "valid loss: 0.00015515918516865014\n",
      "1  iterations since best score.\n",
      "\n",
      "Epoch 76: train loss: 0.00012863807318611164\n",
      "valid loss: 0.00015486678366372463\n",
      "2  iterations since best score.\n",
      "\n",
      "Epoch 77: train loss: 0.00012032366757782289\n",
      "valid loss: 0.00013732101829166528\n",
      "3  iterations since best score.\n",
      "Early stopping\n"
     ]
    }
   ],
   "source": [
    "seed_everything(SEED)\n",
    "\n",
    "training_generator,valid_generator = prepare_generators(training_set, valid_set, batch_size = 64)\n",
    "\n",
    "criterion = torch.nn.MSELoss().to(DEVICE)\n",
    "\n",
    "US = SimpleAutoencoder(len(input_features), 100,20).to(DEVICE)\n",
    "\n",
    "optimizer = torch.optim.Adam(US.parameters(), lr = 0.0001)\n",
    "\n",
    "US,training_execution_time,train_losses,valid_losses = training_loop(US,\n",
    "                                                                        training_generator,\n",
    "                                                                        valid_generator,\n",
    "                                                                        optimizer,\n",
    "                                                                        criterion,\n",
    "                                                                        max_epochs=500,\n",
    "                                                                        verbose=True)"
   ]
  },
  {
   "cell_type": "markdown",
   "id": "f93a9a33-5b34-4af1-bc86-40ea7e4d90bd",
   "metadata": {},
   "source": [
    "`Early Stopping` na época 77."
   ]
  },
  {
   "cell_type": "markdown",
   "id": "76a163bd-44c3-471b-a0c8-3abf7767d85b",
   "metadata": {},
   "source": [
    "### Avaliação"
   ]
  },
  {
   "cell_type": "code",
   "execution_count": 336,
   "id": "09807858-a08e-4725-a859-3114d4700c20",
   "metadata": {},
   "outputs": [
    {
     "name": "stdout",
     "output_type": "stream",
     "text": [
      "[5.2055064e-05, 7.6958575e-05, 9.0547604e-05, 6.815417e-05, 8.855619e-05]\n",
      "0.00013738808\n"
     ]
    }
   ],
   "source": [
    "losses_US = per_sample_mse(US, valid_generator)\n",
    "print(losses_US[0:5])\n",
    "print(np.mean(losses_US))"
   ]
  },
  {
   "cell_type": "code",
   "execution_count": 337,
   "id": "0aee06a9-44b1-44c6-8084-7cb831cca589",
   "metadata": {},
   "outputs": [
    {
     "name": "stdout",
     "output_type": "stream",
     "text": [
      "Average fraud reconstruction error: 0.002801159\n",
      "Average genuine reconstruction error: 0.00012025005\n"
     ]
    }
   ],
   "source": [
    "genuine_losses = np.array(losses_US)[y_valid.cpu().numpy() == 0]\n",
    "fraud_losses = np.array(losses_US)[y_valid.cpu().numpy() == 1]\n",
    "print(\"Average fraud reconstruction error:\", np.mean(fraud_losses))\n",
    "print(\"Average genuine reconstruction error:\", np.mean(genuine_losses))"
   ]
  },
  {
   "cell_type": "code",
   "execution_count": 338,
   "id": "d96f33e0-8233-46a5-b102-0e4827808d19",
   "metadata": {},
   "outputs": [
    {
     "data": {
      "text/html": [
       "<div>\n",
       "<style scoped>\n",
       "    .dataframe tbody tr th:only-of-type {\n",
       "        vertical-align: middle;\n",
       "    }\n",
       "\n",
       "    .dataframe tbody tr th {\n",
       "        vertical-align: top;\n",
       "    }\n",
       "\n",
       "    .dataframe thead th {\n",
       "        text-align: right;\n",
       "    }\n",
       "</style>\n",
       "<table border=\"1\" class=\"dataframe\">\n",
       "  <thead>\n",
       "    <tr style=\"text-align: right;\">\n",
       "      <th></th>\n",
       "      <th>AUC ROC</th>\n",
       "      <th>Average precision</th>\n",
       "      <th>F1 Score</th>\n",
       "      <th>Card Precision@100</th>\n",
       "    </tr>\n",
       "  </thead>\n",
       "  <tbody>\n",
       "    <tr>\n",
       "      <th>0</th>\n",
       "      <td>0.837</td>\n",
       "      <td>0.182</td>\n",
       "      <td>0.284</td>\n",
       "      <td>0.211</td>\n",
       "    </tr>\n",
       "  </tbody>\n",
       "</table>\n",
       "</div>"
      ],
      "text/plain": [
       "   AUC ROC  Average precision  F1 Score  Card Precision@100\n",
       "0    0.837              0.182     0.284               0.211"
      ]
     },
     "execution_count": 338,
     "metadata": {},
     "output_type": "execute_result"
    }
   ],
   "source": [
    "predictions_df_US=valid_df.copy()\n",
    "predictions_df_US['predictions']=losses_US\n",
    "    \n",
    "result3 = performance_assessment(predictions_df_US, threshold = 0.001)\n",
    "result3"
   ]
  },
  {
   "cell_type": "code",
   "execution_count": 339,
   "id": "b10de36a-99b6-46a7-a2aa-53c7552bebc4",
   "metadata": {},
   "outputs": [
    {
     "data": {
      "image/png": "[encoded data removed]",
      "text/plain": [
       "<Figure size 800x600 with 1 Axes>"
      ]
     },
     "metadata": {},
     "output_type": "display_data"
    }
   ],
   "source": [
    "average_precision = average_precision_score(predictions_df_US[output_feature], predictions_df_US['predictions'])\n",
    "\n",
    "# Plotting da Curva de Precision-Recall\n",
    "fig, ax = plt.subplots(figsize=(8, 6))\n",
    "plot_precision_recall_curve(\n",
    "    y_true=predictions_df_US[output_feature],\n",
    "    y_scores=predictions_df_US['predictions'],\n",
    "    ax=ax,\n",
    "    title='Precision-Recall Curve for Autoencoder Anomaly Detection',\n",
    "    fs=12,\n",
    "    baseline=average_precision\n",
    ")\n",
    "plt.show()"
   ]
  },
  {
   "cell_type": "markdown",
   "id": "753ae5fd-5fb1-41af-9473-47699c40f170",
   "metadata": {},
   "source": [
    "## Avaliação Conjunta dos Métodos de sampling"
   ]
  },
  {
   "cell_type": "code",
   "execution_count": 340,
   "id": "418fba10-63ba-4b0b-b06b-ed1e63c30408",
   "metadata": {},
   "outputs": [],
   "source": [
    "comparison_df = pd.DataFrame({\n",
    "    'Model': ['Baseline', 'Oversampling', 'Undersampling'],\n",
    "    'F1 Score': [\n",
    "        result1['F1 Score'].values[0],\n",
    "        result2['F1 Score'].values[0],\n",
    "        result3['F1 Score'].values[0]\n",
    "    ],\n",
    "    'Average Precision': [\n",
    "        result1['Average precision'].values[0],\n",
    "        result2['Average precision'].values[0],\n",
    "        result3['Average precision'].values[0]\n",
    "    ]\n",
    "})"
   ]
  },
  {
   "cell_type": "code",
   "execution_count": 341,
   "id": "e6e33d4b-1974-43e3-bcb0-24ca078029c0",
   "metadata": {},
   "outputs": [
    {
     "data": {
      "image/png": "[encoded data removed]",
      "text/plain": [
       "<Figure size 800x500 with 1 Axes>"
      ]
     },
     "metadata": {},
     "output_type": "display_data"
    }
   ],
   "source": [
    "# Dados\n",
    "labels = comparison_df['Model']\n",
    "f1_scores = comparison_df['F1 Score']\n",
    "average_precisions = comparison_df['Average Precision']\n",
    "\n",
    "x = np.arange(len(labels))  # localização dos grupos\n",
    "width = 0.35  # largura das barras\n",
    "\n",
    "# Plot\n",
    "fig, ax = plt.subplots(figsize=(8, 5))\n",
    "rects1 = ax.bar(x - width/2, f1_scores, width, label='F1 Score')\n",
    "rects2 = ax.bar(x + width/2, average_precisions, width, label='Average Precision')\n",
    "\n",
    "# Labels e layout\n",
    "ax.set_ylabel('Score')\n",
    "ax.set_title('F1 Score vs Average Precision por modelo')\n",
    "ax.set_xticks(x)\n",
    "ax.set_xticklabels(labels)\n",
    "ax.legend()\n",
    "\n",
    "# Adicionar valores nas barras\n",
    "def autolabel(rects):\n",
    "    for rect in rects:\n",
    "        height = rect.get_height()\n",
    "        ax.annotate(f'{height:.2f}',\n",
    "                    xy=(rect.get_x() + rect.get_width()/2, height),\n",
    "                    xytext=(0, 3),\n",
    "                    textcoords=\"offset points\",\n",
    "                    ha='center', va='bottom')\n",
    "\n",
    "autolabel(rects1)\n",
    "autolabel(rects2)\n",
    "\n",
    "plt.tight_layout()\n",
    "plt.show()"
   ]
  },
  {
   "cell_type": "code",
   "execution_count": null,
   "id": "6cf817dd-5407-460b-91d3-cd4c530c67ff",
   "metadata": {},
   "outputs": [],
   "source": []
  }
 ],
 "metadata": {
  "kernelspec": {
   "display_name": "Python 3 (ipykernel)",
   "language": "python",
   "name": "python3"
  },
  "language_info": {
   "codemirror_mode": {
    "name": "ipython",
    "version": 3
   },
   "file_extension": ".py",
   "mimetype": "text/x-python",
   "name": "python",
   "nbconvert_exporter": "python",
   "pygments_lexer": "ipython3",
   "version": "3.9.21"
  }
 },
 "nbformat": 4,
 "nbformat_minor": 5
}
