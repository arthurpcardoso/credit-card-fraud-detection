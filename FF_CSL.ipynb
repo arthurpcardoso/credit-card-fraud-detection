{
 "cells": [
  {
   "cell_type": "markdown",
   "id": "eed14a89",
   "metadata": {},
   "source": [
    "# Rede Neural Feedforward com Regularização (Undersampling)\n",
    "Notebook baseado no original, com etapa modular de regularização do dataset após o carregamento dos dados."
   ]
  },
  {
   "cell_type": "markdown",
   "id": "d8a371b7",
   "metadata": {},
   "source": [
    "## Importação das bibliotecas\n",
    "Importe as bibliotecas necessárias para manipulação de dados, modelagem e regularização."
   ]
  },
  {
   "cell_type": "code",
   "execution_count": 1,
   "id": "956e3ad3",
   "metadata": {},
   "outputs": [],
   "source": [
    "import os\n",
    "import time\n",
    "import random\n",
    "import datetime\n",
    "import numpy as np\n",
    "import pandas as pd\n",
    "import matplotlib.pyplot as plt\n",
    "import torch\n",
    "import sklearn\n",
    "from imblearn.under_sampling import RandomUnderSampler\n",
    "from sklearn.model_selection import train_test_split\n",
    "from sklearn.preprocessing import StandardScaler"
   ]
  },
  {
   "cell_type": "markdown",
   "id": "f537126e",
   "metadata": {},
   "source": [
    "## Carregamento do dataset\n",
    "Carregue o dataset de transações simuladas."
   ]
  },
  {
   "cell_type": "code",
   "execution_count": 2,
   "id": "5163bb7f",
   "metadata": {},
   "outputs": [
    {
     "name": "stdout",
     "output_type": "stream",
     "text": [
      "Carregando arquivos de transações...\n",
      "919767 transações carregadas, sendo 8195 fraudes.\n",
      "919767 transações carregadas, sendo 8195 fraudes.\n"
     ]
    }
   ],
   "source": [
    "# Carregar funções compartilhadas\n",
    "%run shared_functions.py\n",
    "\n",
    "# Definir diretório de entrada e datas\n",
    "DIR_INPUT = 'simulated-data-transformed/data/'\n",
    "BEGIN_DATE = \"2018-06-11\"\n",
    "END_DATE = \"2018-09-14\"\n",
    "\n",
    "print(\"Carregando arquivos de transações...\")\n",
    "transactions_df = read_from_files(DIR_INPUT, BEGIN_DATE, END_DATE)\n",
    "print(f\"{len(transactions_df)} transações carregadas, sendo {transactions_df.TX_FRAUD.sum()} fraudes.\")"
   ]
  },
  {
   "cell_type": "markdown",
   "id": "520ff20e",
   "metadata": {},
   "source": [
    "## Regularização do dataset (undersampling modular)\n",
    "Aplicação modular de regularização para lidar com desbalanceamento. Inicialmente, será usado o RandomUnderSampler."
   ]
  },
  {
   "cell_type": "code",
   "execution_count": null,
   "id": "3915c419",
   "metadata": {},
   "outputs": [
    {
     "name": "stdout",
     "output_type": "stream",
     "text": [
      "Após regularização: 16390 amostras, 8195 fraudes.\n"
     ]
    }
   ],
   "source": [
    "# Função modular para regularização do dataset\n",
    "def regularizar_dataset(X, y, metodo='undersampling', sampler=None, **kwargs):\n",
    "    if metodo == 'undersampling':\n",
    "        if sampler is None:\n",
    "            sampler = RandomUnderSampler(**kwargs)\n",
    "        X_res, y_res = sampler.fit_resample(X, y)\n",
    "        return X_res, y_res\n",
    "    elif metodo == 'cost-sensitive':\n",
    "        # Não altera X e y, apenas retorna os dados originais\n",
    "        # O tratamento de custo será feito no modelo/treinamento\n",
    "        return X, y\n",
    "    elif metodo == 'baseline':\n",
    "        # Não altera X e y, apenas retorna os dados originais\n",
    "        return X, y\n",
    "    else:\n",
    "        raise NotImplementedError('Método de regularização não implementado.')\n",
    "\n",
    "# Aplicação do undersampling\n",
    "input_features = ['TX_AMOUNT','TX_DURING_WEEKEND', 'TX_DURING_NIGHT', 'CUSTOMER_ID_NB_TX_1DAY_WINDOW',\n",
    "       'CUSTOMER_ID_AVG_AMOUNT_1DAY_WINDOW', 'CUSTOMER_ID_NB_TX_7DAY_WINDOW',\n",
    "       'CUSTOMER_ID_AVG_AMOUNT_7DAY_WINDOW', 'CUSTOMER_ID_NB_TX_30DAY_WINDOW',\n",
    "       'CUSTOMER_ID_AVG_AMOUNT_30DAY_WINDOW', 'TERMINAL_ID_NB_TX_1DAY_WINDOW',\n",
    "       'TERMINAL_ID_RISK_1DAY_WINDOW', 'TERMINAL_ID_NB_TX_7DAY_WINDOW',\n",
    "       'TERMINAL_ID_RISK_7DAY_WINDOW', 'TERMINAL_ID_NB_TX_30DAY_WINDOW',\n",
    "       'TERMINAL_ID_RISK_30DAY_WINDOW']\n",
    "output_feature = 'TX_FRAUD'\n",
    "\n",
    "X = transactions_df[input_features]\n",
    "y = transactions_df[output_feature]\n",
    "\n",
    "X_reg, y_reg = regularizar_dataset(X, y, metodo='cost-sensitive')\n",
    "print(f\"Após regularização: {len(X_reg)} amostras, {sum(y_reg)} fraudes.\")"
   ]
  },
  {
   "cell_type": "markdown",
   "id": "84e18ba3",
   "metadata": {},
   "source": [
    "## Pré-processamento dos dados\n",
    "Divida os dados regularizados em treino e teste e realize a normalização."
   ]
  },
  {
   "cell_type": "code",
   "execution_count": 4,
   "id": "d982b648",
   "metadata": {},
   "outputs": [],
   "source": [
    "# Divisão em treino e teste\n",
    "X_train, X_test, y_train, y_test = train_test_split(X_reg, y_reg, test_size=0.3, random_state=42, stratify=y_reg)\n",
    "\n",
    "# Normalização (StandardScaler)\n",
    "scaler = StandardScaler()\n",
    "X_train_scaled = scaler.fit_transform(X_train)\n",
    "X_test_scaled = scaler.transform(X_test)"
   ]
  },
  {
   "cell_type": "markdown",
   "id": "e5d59a8f",
   "metadata": {},
   "source": [
    "## Conversão dos dados para tensores\n",
    "Converta os dados normalizados para tensores do PyTorch."
   ]
  },
  {
   "cell_type": "code",
   "execution_count": 5,
   "id": "b2f3cf18",
   "metadata": {},
   "outputs": [],
   "source": [
    "x_train = torch.FloatTensor(X_train_scaled)\n",
    "x_test = torch.FloatTensor(X_test_scaled)\n",
    "y_train = torch.FloatTensor(y_train.values) if hasattr(y_train, 'values') else torch.FloatTensor(y_train)\n",
    "y_test = torch.FloatTensor(y_test.values) if hasattr(y_test, 'values') else torch.FloatTensor(y_test)"
   ]
  },
  {
   "cell_type": "markdown",
   "id": "f39f0fa7",
   "metadata": {},
   "source": [
    "## Definição do Dataset e DataLoader\n",
    "Crie classes para alimentar o modelo durante o treinamento e avaliação."
   ]
  },
  {
   "cell_type": "code",
   "execution_count": 6,
   "id": "4a30c563",
   "metadata": {},
   "outputs": [],
   "source": [
    "class FraudDataset(torch.utils.data.Dataset):\n",
    "    def __init__(self, x, y):\n",
    "        self.x = x\n",
    "        self.y = y\n",
    "    def __len__(self):\n",
    "        return len(self.x)\n",
    "    def __getitem__(self, idx):\n",
    "        return self.x[idx], self.y[idx]\n",
    "\n",
    "batch_size = 64\n",
    "train_dataset = FraudDataset(x_train, y_train)\n",
    "test_dataset = FraudDataset(x_test, y_test)\n",
    "train_loader = torch.utils.data.DataLoader(train_dataset, batch_size=batch_size, shuffle=True)\n",
    "test_loader = torch.utils.data.DataLoader(test_dataset, batch_size=batch_size, shuffle=False)"
   ]
  },
  {
   "cell_type": "markdown",
   "id": "616231ce",
   "metadata": {},
   "source": [
    "## Definição da arquitetura FraudMLP\n",
    "Defina a arquitetura da rede neural conforme o notebook original."
   ]
  },
  {
   "cell_type": "code",
   "execution_count": null,
   "id": "ce4afada",
   "metadata": {},
   "outputs": [],
   "source": [
    "class FraudMLP(torch.nn.Module):\n",
    "    def __init__(self, input_size, hidden_size):\n",
    "        super(FraudMLP, self).__init__()\n",
    "        self.fc1 = torch.nn.Linear(input_size, hidden_size)\n",
    "        self.relu = torch.nn.ReLU()\n",
    "        self.fc2 = torch.nn.Linear(hidden_size, 1)\n",
    "        self.sigmoid = torch.nn.Sigmoid()\n",
    "    def forward(self, x):\n",
    "        x = self.fc1(x)\n",
    "        x = self.relu(x)\n",
    "        x = self.fc2(x)\n",
    "        x = self.sigmoid(x)\n",
    "        return x"
   ]
  },
  {
   "cell_type": "markdown",
   "id": "257fd8fc",
   "metadata": {},
   "source": [
    "## Configuração do otimizador e função de perda\n",
    "Configure o otimizador (Adam) e a função de perda (BCELoss)."
   ]
  },
  {
   "cell_type": "code",
   "execution_count": 8,
   "id": "1043d188",
   "metadata": {},
   "outputs": [],
   "source": [
    "input_size = x_train.shape[1]\n",
    "hidden_size = 1000\n",
    "model = FraudMLP(input_size, hidden_size)\n",
    "criterion = torch.nn.BCELoss()\n",
    "optimizer = torch.optim.Adam(model.parameters(), lr=0.0005)"
   ]
  },
  {
   "cell_type": "markdown",
   "id": "996127c0",
   "metadata": {},
   "source": [
    "## Treinamento do modelo\n",
    "Treine o modelo utilizando os dados regularizados."
   ]
  },
  {
   "cell_type": "code",
   "execution_count": null,
   "id": "80ec7770",
   "metadata": {},
   "outputs": [
    {
     "name": "stdout",
     "output_type": "stream",
     "text": [
      "Epoch 10: train loss = 0.3140, test loss = 0.3088\n",
      "Epoch 20: train loss = 0.2936, test loss = 0.2969\n",
      "Epoch 20: train loss = 0.2936, test loss = 0.2969\n",
      "Epoch 30: train loss = 0.2836, test loss = 0.2926\n",
      "Epoch 30: train loss = 0.2836, test loss = 0.2926\n",
      "Epoch 40: train loss = 0.2737, test loss = 0.2931\n",
      "Epoch 40: train loss = 0.2737, test loss = 0.2931\n",
      "Epoch 50: train loss = 0.2671, test loss = 0.2928\n",
      "Epoch 50: train loss = 0.2671, test loss = 0.2928\n"
     ]
    }
   ],
   "source": [
    "# Definir pesos para cost sensitive learning\n",
    "# Peso maior para a classe minoritária (fraude = 1)\n",
    "fraud_weight = (y_train == 0).sum() / (y_train == 1).sum() if (y_train == 1).sum() > 0 else 1.0\n",
    "weights = torch.ones_like(y_train)\n",
    "weights[y_train == 1] = fraud_weight\n",
    "\n",
    "n_epochs = 50\n",
    "train_losses = []\n",
    "test_losses = []\n",
    "for epoch in range(n_epochs):\n",
    "    model.train()\n",
    "    epoch_loss = 0\n",
    "    for i, (xb, yb) in enumerate(train_loader):\n",
    "        optimizer.zero_grad()\n",
    "        preds = model(xb).squeeze()\n",
    "        # Selecionar os pesos corretos para o minibatch\n",
    "        batch_weights = weights[i * train_loader.batch_size : i * train_loader.batch_size + xb.size(0)]\n",
    "        loss = torch.nn.functional.binary_cross_entropy(preds, yb, weight=batch_weights)\n",
    "        loss.backward()\n",
    "        optimizer.step()\n",
    "        epoch_loss += loss.item() * xb.size(0)\n",
    "    train_losses.append(epoch_loss / len(train_loader.dataset))\n",
    "    # Avaliação no conjunto de teste\n",
    "    model.eval()\n",
    "    with torch.no_grad():\n",
    "        test_loss = 0\n",
    "        for xb, yb in test_loader:\n",
    "            preds = model(xb).squeeze()\n",
    "            loss = criterion(preds, yb)\n",
    "            test_loss += loss.item() * xb.size(0)\n",
    "        test_losses.append(test_loss / len(test_loader.dataset))\n",
    "    if (epoch+1) % 10 == 0:\n",
    "        print(f\"Epoch {epoch+1}: train loss = {train_losses[-1]:.4f}, test loss = {test_losses[-1]:.4f}\")"
   ]
  },
  {
   "cell_type": "markdown",
   "id": "18418f89",
   "metadata": {},
   "source": [
    "## Avaliação do modelo\n",
    "Avalie o desempenho do modelo com métricas como AUC ROC e precisão."
   ]
  },
  {
   "cell_type": "code",
   "execution_count": 10,
   "id": "f1a7f2fd",
   "metadata": {},
   "outputs": [
    {
     "name": "stdout",
     "output_type": "stream",
     "text": [
      "F1 Score: 0.8835\n",
      "AUC ROC: 0.9139 | Acurácia: 0.8930 | Precisão: 0.9698\n"
     ]
    }
   ],
   "source": [
    "from sklearn.metrics import roc_auc_score, accuracy_score, precision_score\n",
    "\n",
    "model.eval()\n",
    "with torch.no_grad():\n",
    "    y_pred_proba = model(x_test).squeeze().numpy()\n",
    "    y_pred = (y_pred_proba > 0.5).astype(int)\n",
    "auc = roc_auc_score(y_test, y_pred_proba)\n",
    "acc = accuracy_score(y_test, y_pred)\n",
    "prec = precision_score(y_test, y_pred)\n",
    "f1 = sklearn.metrics.f1_score(y_test, y_pred)\n",
    "print(f\"F1 Score: {f1:.4f}\")\n",
    "print(f\"AUC ROC: {auc:.4f} | Acurácia: {acc:.4f} | Precisão: {prec:.4f}\")"
   ]
  },
  {
   "cell_type": "markdown",
   "id": "1bd6ab61",
   "metadata": {},
   "source": [
    "## Visualização das métricas\n",
    "Plote os gráficos de perda de treino e teste ao longo das épocas."
   ]
  },
  {
   "cell_type": "code",
   "execution_count": 11,
   "id": "d1ab8801",
   "metadata": {},
   "outputs": [
    {
     "data": {
      "image/png": "[encoded data removed]",
      "text/plain": [
       "<Figure size 640x480 with 1 Axes>"
      ]
     },
     "metadata": {},
     "output_type": "display_data"
    }
   ],
   "source": [
    "plt.plot(train_losses, label='Treino')\n",
    "plt.plot(test_losses, label='Teste')\n",
    "plt.xlabel('Época')\n",
    "plt.ylabel('Perda')\n",
    "plt.title('Curva de perda')\n",
    "plt.legend()\n",
    "plt.show()"
   ]
  }
 ],
 "metadata": {
  "kernelspec": {
   "display_name": ".venv",
   "language": "python",
   "name": "python3"
  },
  "language_info": {
   "codemirror_mode": {
    "name": "ipython",
    "version": 3
   },
   "file_extension": ".py",
   "mimetype": "text/x-python",
   "name": "python",
   "nbconvert_exporter": "python",
   "pygments_lexer": "ipython3",
   "version": "3.11.0"
  }
 },
 "nbformat": 4,
 "nbformat_minor": 5
}
